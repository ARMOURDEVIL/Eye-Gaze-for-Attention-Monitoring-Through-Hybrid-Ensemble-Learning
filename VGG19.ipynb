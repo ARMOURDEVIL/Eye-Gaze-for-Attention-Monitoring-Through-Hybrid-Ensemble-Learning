{
 "cells": [
  {
   "cell_type": "code",
   "execution_count": 2,
   "id": "f08a77df",
   "metadata": {},
   "outputs": [],
   "source": [
    "import tensorflow as tf\n",
    "from tensorflow.keras.layers import Dense, Conv2D, MaxPooling2D, Flatten, Activation, Dropout, BatchNormalization\n",
    "from tensorflow.keras.optimizers import RMSprop, Adam\n",
    "from tensorflow.keras.preprocessing.image import ImageDataGenerator\n",
    "from PIL import Image\n",
    "from skimage import transform"
   ]
  },
  {
   "cell_type": "code",
   "execution_count": 3,
   "id": "348baae0",
   "metadata": {},
   "outputs": [],
   "source": [
    "photo_size=224"
   ]
  },
  {
   "cell_type": "code",
   "execution_count": 10,
   "id": "253057ad",
   "metadata": {},
   "outputs": [],
   "source": [
    "def prepare_dataset(data_dir):\n",
    "    datagen = ImageDataGenerator(\n",
    "        rescale= 1/255,\n",
    "        rotation_range=40,\n",
    "        width_shift_range=.2,\n",
    "        height_shift_range=.2,\n",
    "        shear_range=.1,\n",
    "        horizontal_flip=True,\n",
    "        fill_mode='nearest',\n",
    "        zoom_range=.2,\n",
    "    )\n",
    "    generator = datagen.flow_from_directory(\n",
    "        data_dir,\n",
    "        target_size=(photo_size,photo_size),\n",
    "        class_mode='binary',\n",
    "        batch_size=32,\n",
    "        classes=['non_autistic','autistic']\n",
    "    )\n",
    "    return generator"
   ]
  },
  {
   "cell_type": "code",
   "execution_count": 11,
   "id": "e4a982d9",
   "metadata": {},
   "outputs": [
    {
     "name": "stdout",
     "output_type": "stream",
     "text": [
      "Found 2536 images belonging to 2 classes.\n",
      "Found 100 images belonging to 2 classes.\n",
      "Found 300 images belonging to 2 classes.\n"
     ]
    }
   ],
   "source": [
    "train_data=prepare_dataset('./autistic-children-facial-data-set/train/')\n",
    "validation_data = prepare_dataset('./autistic-children-facial-data-set/valid/')\n",
    "test_data=prepare_dataset('./autistic-children-facial-data-set/test/')"
   ]
  },
  {
   "cell_type": "code",
   "execution_count": 12,
   "id": "3f4943ca",
   "metadata": {},
   "outputs": [
    {
     "data": {
      "text/plain": [
       "{'non_autistic': 0, 'autistic': 1}"
      ]
     },
     "execution_count": 12,
     "metadata": {},
     "output_type": "execute_result"
    }
   ],
   "source": [
    "validation_data.class_indices"
   ]
  },
  {
   "cell_type": "code",
   "execution_count": 13,
   "id": "e414bbd0",
   "metadata": {},
   "outputs": [],
   "source": [
    "# example of tending the vgg16 model\n",
    "def create_vgg19_model():\n",
    "    from keras.applications.vgg19 import VGG19\n",
    "    from keras.models import Model\n",
    "    from keras.layers import Dense\n",
    "    from keras.layers import Flatten\n",
    "    # load model without classifier layers\n",
    "    model = VGG19(include_top=False, input_shape=(photo_size, photo_size, 3))\n",
    "    for layer_idx in range(len(model.layers)):\n",
    "        if layer_idx not in [1,2,3,15,16,17,18]:\n",
    "            model.layers[layer_idx].trainable = False\n",
    "    # add new classifier layers\n",
    "    flat1 = Flatten()(model.layers[-1].output)\n",
    "    class1 = Dense(256, activation='relu')(flat1)\n",
    "    output = Dense(95, activation='softmax')(class1)\n",
    "    # define new model\n",
    "    model = Model(inputs=model.inputs, outputs=output)\n",
    "    return model"
   ]
  },
  {
   "cell_type": "code",
   "execution_count": 14,
   "id": "6660b3c6",
   "metadata": {},
   "outputs": [
    {
     "name": "stdout",
     "output_type": "stream",
     "text": [
      "Model: \"model_1\"\n",
      "_________________________________________________________________\n",
      " Layer (type)                Output Shape              Param #   \n",
      "=================================================================\n",
      " input_2 (InputLayer)        [(None, 224, 224, 3)]     0         \n",
      "                                                                 \n",
      " block1_conv1 (Conv2D)       (None, 224, 224, 64)      1792      \n",
      "                                                                 \n",
      " block1_conv2 (Conv2D)       (None, 224, 224, 64)      36928     \n",
      "                                                                 \n",
      " block1_pool (MaxPooling2D)  (None, 112, 112, 64)      0         \n",
      "                                                                 \n",
      " block2_conv1 (Conv2D)       (None, 112, 112, 128)     73856     \n",
      "                                                                 \n",
      " block2_conv2 (Conv2D)       (None, 112, 112, 128)     147584    \n",
      "                                                                 \n",
      " block2_pool (MaxPooling2D)  (None, 56, 56, 128)       0         \n",
      "                                                                 \n",
      " block3_conv1 (Conv2D)       (None, 56, 56, 256)       295168    \n",
      "                                                                 \n",
      " block3_conv2 (Conv2D)       (None, 56, 56, 256)       590080    \n",
      "                                                                 \n",
      " block3_conv3 (Conv2D)       (None, 56, 56, 256)       590080    \n",
      "                                                                 \n",
      " block3_conv4 (Conv2D)       (None, 56, 56, 256)       590080    \n",
      "                                                                 \n",
      " block3_pool (MaxPooling2D)  (None, 28, 28, 256)       0         \n",
      "                                                                 \n",
      " block4_conv1 (Conv2D)       (None, 28, 28, 512)       1180160   \n",
      "                                                                 \n",
      " block4_conv2 (Conv2D)       (None, 28, 28, 512)       2359808   \n",
      "                                                                 \n",
      " block4_conv3 (Conv2D)       (None, 28, 28, 512)       2359808   \n",
      "                                                                 \n",
      " block4_conv4 (Conv2D)       (None, 28, 28, 512)       2359808   \n",
      "                                                                 \n",
      " block4_pool (MaxPooling2D)  (None, 14, 14, 512)       0         \n",
      "                                                                 \n",
      " block5_conv1 (Conv2D)       (None, 14, 14, 512)       2359808   \n",
      "                                                                 \n",
      " block5_conv2 (Conv2D)       (None, 14, 14, 512)       2359808   \n",
      "                                                                 \n",
      " block5_conv3 (Conv2D)       (None, 14, 14, 512)       2359808   \n",
      "                                                                 \n",
      " block5_conv4 (Conv2D)       (None, 14, 14, 512)       2359808   \n",
      "                                                                 \n",
      " block5_pool (MaxPooling2D)  (None, 7, 7, 512)         0         \n",
      "                                                                 \n",
      " flatten_1 (Flatten)         (None, 25088)             0         \n",
      "                                                                 \n",
      " dense_2 (Dense)             (None, 256)               6422784   \n",
      "                                                                 \n",
      " dense_3 (Dense)             (None, 95)                24415     \n",
      "                                                                 \n",
      "=================================================================\n",
      "Total params: 26,471,583\n",
      "Trainable params: 13,565,343\n",
      "Non-trainable params: 12,906,240\n",
      "_________________________________________________________________\n"
     ]
    }
   ],
   "source": [
    "vgg19_model=create_vgg19_model()\n",
    "vgg19_model.summary()"
   ]
  },
  {
   "cell_type": "code",
   "execution_count": 15,
   "id": "a9ee1d08",
   "metadata": {},
   "outputs": [
    {
     "name": "stdout",
     "output_type": "stream",
     "text": [
      "Epoch 1/100\n",
      "80/80 [==============================] - 53s 475ms/step - loss: 1.0197 - accuracy: 0.5398 - val_loss: 0.6989 - val_accuracy: 0.5700\n",
      "Epoch 2/100\n",
      "80/80 [==============================] - 34s 423ms/step - loss: 0.6462 - accuracy: 0.6234 - val_loss: 0.6468 - val_accuracy: 0.6300\n",
      "Epoch 3/100\n",
      "80/80 [==============================] - 34s 421ms/step - loss: 0.6181 - accuracy: 0.6487 - val_loss: 0.6893 - val_accuracy: 0.5500\n",
      "Epoch 4/100\n",
      "80/80 [==============================] - 34s 422ms/step - loss: 0.5622 - accuracy: 0.7086 - val_loss: 0.9632 - val_accuracy: 0.5700\n",
      "Epoch 5/100\n",
      "80/80 [==============================] - 35s 429ms/step - loss: 0.5615 - accuracy: 0.7141 - val_loss: 0.5405 - val_accuracy: 0.7200\n",
      "Epoch 6/100\n",
      "80/80 [==============================] - 34s 420ms/step - loss: 0.5117 - accuracy: 0.7512 - val_loss: 0.4527 - val_accuracy: 0.7700\n",
      "Epoch 7/100\n",
      "80/80 [==============================] - 34s 423ms/step - loss: 0.5056 - accuracy: 0.7532 - val_loss: 0.5297 - val_accuracy: 0.6900\n",
      "Epoch 8/100\n",
      "80/80 [==============================] - 34s 421ms/step - loss: 0.4958 - accuracy: 0.7567 - val_loss: 0.5211 - val_accuracy: 0.7600\n",
      "Epoch 9/100\n",
      "80/80 [==============================] - 35s 429ms/step - loss: 0.5048 - accuracy: 0.7508 - val_loss: 0.4988 - val_accuracy: 0.7800\n",
      "Epoch 10/100\n",
      "80/80 [==============================] - 34s 422ms/step - loss: 0.4763 - accuracy: 0.7697 - val_loss: 0.5397 - val_accuracy: 0.7300\n",
      "Epoch 11/100\n",
      "80/80 [==============================] - 34s 422ms/step - loss: 0.4726 - accuracy: 0.7744 - val_loss: 0.4481 - val_accuracy: 0.7700\n",
      "Epoch 12/100\n",
      "80/80 [==============================] - 35s 433ms/step - loss: 0.4686 - accuracy: 0.7733 - val_loss: 0.4391 - val_accuracy: 0.8000\n",
      "Epoch 13/100\n",
      "80/80 [==============================] - 34s 425ms/step - loss: 0.4533 - accuracy: 0.7886 - val_loss: 0.5177 - val_accuracy: 0.7300\n",
      "Epoch 14/100\n",
      "80/80 [==============================] - 34s 418ms/step - loss: 0.4565 - accuracy: 0.7879 - val_loss: 0.4197 - val_accuracy: 0.8100\n",
      "Epoch 15/100\n",
      "80/80 [==============================] - 34s 422ms/step - loss: 0.4581 - accuracy: 0.7851 - val_loss: 0.5133 - val_accuracy: 0.7100\n",
      "Epoch 16/100\n",
      "80/80 [==============================] - 34s 427ms/step - loss: 0.4268 - accuracy: 0.8017 - val_loss: 0.4205 - val_accuracy: 0.8000\n",
      "Epoch 17/100\n",
      "80/80 [==============================] - 34s 425ms/step - loss: 0.4309 - accuracy: 0.7950 - val_loss: 0.4935 - val_accuracy: 0.7500\n",
      "Epoch 18/100\n",
      "80/80 [==============================] - 35s 429ms/step - loss: 0.4230 - accuracy: 0.8091 - val_loss: 0.5210 - val_accuracy: 0.7300\n",
      "Epoch 19/100\n",
      "80/80 [==============================] - 34s 417ms/step - loss: 0.4446 - accuracy: 0.7950 - val_loss: 0.4441 - val_accuracy: 0.8100\n",
      "Epoch 20/100\n",
      "80/80 [==============================] - 34s 427ms/step - loss: 0.4256 - accuracy: 0.8091 - val_loss: 0.4809 - val_accuracy: 0.7300\n",
      "Epoch 21/100\n",
      "80/80 [==============================] - 35s 431ms/step - loss: 0.4419 - accuracy: 0.7922 - val_loss: 0.4524 - val_accuracy: 0.7900\n",
      "Epoch 22/100\n",
      "80/80 [==============================] - 34s 422ms/step - loss: 0.4195 - accuracy: 0.8115 - val_loss: 0.5047 - val_accuracy: 0.8100\n",
      "Epoch 23/100\n",
      "80/80 [==============================] - 35s 434ms/step - loss: 0.4057 - accuracy: 0.8127 - val_loss: 0.4547 - val_accuracy: 0.7800\n",
      "Epoch 24/100\n",
      "80/80 [==============================] - 36s 443ms/step - loss: 0.4172 - accuracy: 0.8072 - val_loss: 0.4795 - val_accuracy: 0.7600\n",
      "Epoch 25/100\n",
      "80/80 [==============================] - 59s 734ms/step - loss: 0.4301 - accuracy: 0.7989 - val_loss: 0.5058 - val_accuracy: 0.7800\n",
      "Epoch 26/100\n",
      "80/80 [==============================] - 144s 2s/step - loss: 0.3859 - accuracy: 0.8356 - val_loss: 0.4560 - val_accuracy: 0.7800\n",
      "Epoch 27/100\n",
      "80/80 [==============================] - 154s 2s/step - loss: 0.3939 - accuracy: 0.8198 - val_loss: 0.4561 - val_accuracy: 0.8100\n",
      "Epoch 28/100\n",
      "80/80 [==============================] - 126s 2s/step - loss: 0.3998 - accuracy: 0.8222 - val_loss: 0.4740 - val_accuracy: 0.7700\n",
      "Epoch 29/100\n",
      "80/80 [==============================] - 36s 449ms/step - loss: 0.3936 - accuracy: 0.8229 - val_loss: 0.4486 - val_accuracy: 0.8100\n",
      "Epoch 30/100\n",
      "80/80 [==============================] - 36s 442ms/step - loss: 0.3670 - accuracy: 0.8415 - val_loss: 0.4327 - val_accuracy: 0.7600\n",
      "Epoch 31/100\n",
      "80/80 [==============================] - 33s 414ms/step - loss: 0.3528 - accuracy: 0.8458 - val_loss: 0.4531 - val_accuracy: 0.8000\n",
      "Epoch 32/100\n",
      "80/80 [==============================] - 33s 412ms/step - loss: 0.3652 - accuracy: 0.8352 - val_loss: 0.4724 - val_accuracy: 0.7600\n",
      "Epoch 33/100\n",
      "80/80 [==============================] - 33s 415ms/step - loss: 0.3590 - accuracy: 0.8458 - val_loss: 0.4767 - val_accuracy: 0.7900\n",
      "Epoch 34/100\n",
      "80/80 [==============================] - 33s 413ms/step - loss: 0.3759 - accuracy: 0.8375 - val_loss: 0.3936 - val_accuracy: 0.8300\n",
      "Epoch 35/100\n",
      "80/80 [==============================] - 34s 423ms/step - loss: 0.3531 - accuracy: 0.8423 - val_loss: 0.4752 - val_accuracy: 0.8100\n",
      "Epoch 36/100\n",
      "80/80 [==============================] - 34s 415ms/step - loss: 0.3620 - accuracy: 0.8340 - val_loss: 0.4920 - val_accuracy: 0.7500\n",
      "Epoch 37/100\n",
      "80/80 [==============================] - 34s 419ms/step - loss: 0.3639 - accuracy: 0.8442 - val_loss: 0.4352 - val_accuracy: 0.7800\n",
      "Epoch 38/100\n",
      "80/80 [==============================] - 34s 417ms/step - loss: 0.3500 - accuracy: 0.8454 - val_loss: 0.4756 - val_accuracy: 0.8000\n",
      "Epoch 39/100\n",
      "80/80 [==============================] - 33s 411ms/step - loss: 0.3322 - accuracy: 0.8517 - val_loss: 0.4884 - val_accuracy: 0.8000\n",
      "Epoch 40/100\n",
      "80/80 [==============================] - 34s 417ms/step - loss: 0.3641 - accuracy: 0.8364 - val_loss: 0.4158 - val_accuracy: 0.7700\n",
      "Epoch 41/100\n",
      "80/80 [==============================] - 33s 415ms/step - loss: 0.3258 - accuracy: 0.8600 - val_loss: 0.3712 - val_accuracy: 0.8000\n",
      "Epoch 42/100\n",
      "80/80 [==============================] - 33s 415ms/step - loss: 0.3519 - accuracy: 0.8435 - val_loss: 0.4126 - val_accuracy: 0.8200\n",
      "Epoch 43/100\n",
      "80/80 [==============================] - 33s 413ms/step - loss: 0.3246 - accuracy: 0.8679 - val_loss: 0.4350 - val_accuracy: 0.8000\n",
      "Epoch 44/100\n",
      "80/80 [==============================] - 34s 419ms/step - loss: 0.3098 - accuracy: 0.8624 - val_loss: 0.6227 - val_accuracy: 0.7200\n",
      "Epoch 45/100\n",
      "80/80 [==============================] - 34s 416ms/step - loss: 0.3275 - accuracy: 0.8521 - val_loss: 0.4199 - val_accuracy: 0.8100\n",
      "Epoch 46/100\n",
      "80/80 [==============================] - 33s 411ms/step - loss: 0.3213 - accuracy: 0.8525 - val_loss: 0.3776 - val_accuracy: 0.8200\n",
      "Epoch 47/100\n",
      "80/80 [==============================] - 34s 419ms/step - loss: 0.3130 - accuracy: 0.8707 - val_loss: 0.4377 - val_accuracy: 0.8300\n",
      "Epoch 48/100\n",
      "80/80 [==============================] - 33s 411ms/step - loss: 0.3005 - accuracy: 0.8726 - val_loss: 0.4694 - val_accuracy: 0.8100\n",
      "Epoch 49/100\n",
      "80/80 [==============================] - 33s 411ms/step - loss: 0.2793 - accuracy: 0.8805 - val_loss: 0.4155 - val_accuracy: 0.8200\n",
      "Epoch 50/100\n",
      "80/80 [==============================] - 33s 414ms/step - loss: 0.2980 - accuracy: 0.8695 - val_loss: 0.3388 - val_accuracy: 0.8600\n",
      "Epoch 51/100\n",
      "80/80 [==============================] - 34s 416ms/step - loss: 0.2928 - accuracy: 0.8726 - val_loss: 0.4068 - val_accuracy: 0.7900\n",
      "Epoch 52/100\n",
      "80/80 [==============================] - 33s 413ms/step - loss: 0.2921 - accuracy: 0.8707 - val_loss: 0.4597 - val_accuracy: 0.8000\n",
      "Epoch 53/100\n",
      "80/80 [==============================] - 34s 424ms/step - loss: 0.2872 - accuracy: 0.8754 - val_loss: 0.3754 - val_accuracy: 0.8600\n",
      "Epoch 54/100\n",
      "80/80 [==============================] - 33s 411ms/step - loss: 0.2950 - accuracy: 0.8746 - val_loss: 0.3566 - val_accuracy: 0.8300\n",
      "Epoch 55/100\n",
      "80/80 [==============================] - 33s 414ms/step - loss: 0.2796 - accuracy: 0.8813 - val_loss: 0.5402 - val_accuracy: 0.8000\n",
      "Epoch 56/100\n",
      "80/80 [==============================] - 34s 420ms/step - loss: 0.3055 - accuracy: 0.8703 - val_loss: 0.3643 - val_accuracy: 0.8200\n",
      "Epoch 57/100\n"
     ]
    },
    {
     "name": "stdout",
     "output_type": "stream",
     "text": [
      "80/80 [==============================] - 33s 411ms/step - loss: 0.2716 - accuracy: 0.8912 - val_loss: 0.4401 - val_accuracy: 0.7800\n",
      "Epoch 58/100\n",
      "80/80 [==============================] - 35s 429ms/step - loss: 0.2776 - accuracy: 0.8841 - val_loss: 0.4809 - val_accuracy: 0.7700\n",
      "Epoch 59/100\n",
      "80/80 [==============================] - 34s 428ms/step - loss: 0.2422 - accuracy: 0.9030 - val_loss: 0.5721 - val_accuracy: 0.7800\n",
      "Epoch 60/100\n",
      "80/80 [==============================] - 35s 432ms/step - loss: 0.2379 - accuracy: 0.8983 - val_loss: 0.4388 - val_accuracy: 0.8300\n",
      "Epoch 61/100\n",
      "80/80 [==============================] - 36s 442ms/step - loss: 0.2648 - accuracy: 0.8927 - val_loss: 0.4344 - val_accuracy: 0.7900\n",
      "Epoch 62/100\n",
      "80/80 [==============================] - 34s 426ms/step - loss: 0.2584 - accuracy: 0.8916 - val_loss: 0.5504 - val_accuracy: 0.7600\n",
      "Epoch 63/100\n",
      "80/80 [==============================] - 34s 419ms/step - loss: 0.2402 - accuracy: 0.9002 - val_loss: 0.4086 - val_accuracy: 0.8200\n",
      "Epoch 64/100\n",
      "80/80 [==============================] - 35s 428ms/step - loss: 0.2442 - accuracy: 0.8998 - val_loss: 0.6053 - val_accuracy: 0.7700\n",
      "Epoch 65/100\n",
      "80/80 [==============================] - 34s 425ms/step - loss: 0.2612 - accuracy: 0.8920 - val_loss: 0.3063 - val_accuracy: 0.8700\n",
      "Epoch 66/100\n",
      "80/80 [==============================] - 35s 428ms/step - loss: 0.2496 - accuracy: 0.8876 - val_loss: 0.4639 - val_accuracy: 0.7600\n",
      "Epoch 67/100\n",
      "80/80 [==============================] - 34s 426ms/step - loss: 0.2351 - accuracy: 0.9046 - val_loss: 0.5362 - val_accuracy: 0.7900\n",
      "Epoch 68/100\n",
      "80/80 [==============================] - 35s 429ms/step - loss: 0.2424 - accuracy: 0.9002 - val_loss: 0.4406 - val_accuracy: 0.7800\n",
      "Epoch 69/100\n",
      "80/80 [==============================] - 35s 431ms/step - loss: 0.2452 - accuracy: 0.8975 - val_loss: 0.5070 - val_accuracy: 0.8200\n",
      "Epoch 70/100\n",
      "80/80 [==============================] - 34s 433ms/step - loss: 0.2381 - accuracy: 0.9038 - val_loss: 0.4387 - val_accuracy: 0.8400\n",
      "Epoch 71/100\n",
      "80/80 [==============================] - 34s 427ms/step - loss: 0.2317 - accuracy: 0.9081 - val_loss: 0.4095 - val_accuracy: 0.8300\n",
      "Epoch 72/100\n",
      "80/80 [==============================] - 35s 430ms/step - loss: 0.2129 - accuracy: 0.9136 - val_loss: 0.4392 - val_accuracy: 0.8600\n",
      "Epoch 73/100\n",
      "80/80 [==============================] - 35s 430ms/step - loss: 0.2222 - accuracy: 0.9054 - val_loss: 0.4163 - val_accuracy: 0.8100\n",
      "Epoch 74/100\n",
      "80/80 [==============================] - 35s 429ms/step - loss: 0.2177 - accuracy: 0.9176 - val_loss: 0.4173 - val_accuracy: 0.8500\n",
      "Epoch 75/100\n",
      "80/80 [==============================] - 35s 433ms/step - loss: 0.2210 - accuracy: 0.9144 - val_loss: 0.5531 - val_accuracy: 0.7800\n",
      "Epoch 76/100\n",
      "80/80 [==============================] - 35s 433ms/step - loss: 0.1969 - accuracy: 0.9223 - val_loss: 0.4559 - val_accuracy: 0.8300\n",
      "Epoch 77/100\n",
      "80/80 [==============================] - 35s 432ms/step - loss: 0.2186 - accuracy: 0.9132 - val_loss: 0.4675 - val_accuracy: 0.8000\n",
      "Epoch 78/100\n",
      "80/80 [==============================] - 34s 424ms/step - loss: 0.2090 - accuracy: 0.9144 - val_loss: 0.5525 - val_accuracy: 0.7900\n",
      "Epoch 79/100\n",
      "80/80 [==============================] - 35s 430ms/step - loss: 0.1831 - accuracy: 0.9290 - val_loss: 0.5234 - val_accuracy: 0.8400\n",
      "Epoch 80/100\n",
      "80/80 [==============================] - 35s 430ms/step - loss: 0.1878 - accuracy: 0.9227 - val_loss: 0.4277 - val_accuracy: 0.8300\n",
      "Epoch 81/100\n",
      "80/80 [==============================] - 35s 437ms/step - loss: 0.1866 - accuracy: 0.9223 - val_loss: 0.4522 - val_accuracy: 0.8300\n",
      "Epoch 82/100\n",
      "80/80 [==============================] - 34s 422ms/step - loss: 0.2323 - accuracy: 0.9062 - val_loss: 0.3863 - val_accuracy: 0.8100\n",
      "Epoch 83/100\n",
      "80/80 [==============================] - 35s 434ms/step - loss: 0.2148 - accuracy: 0.9172 - val_loss: 0.4824 - val_accuracy: 0.8000\n",
      "Epoch 84/100\n",
      "80/80 [==============================] - 34s 423ms/step - loss: 0.1853 - accuracy: 0.9247 - val_loss: 0.5250 - val_accuracy: 0.8200\n",
      "Epoch 85/100\n",
      "80/80 [==============================] - 35s 428ms/step - loss: 0.1853 - accuracy: 0.9338 - val_loss: 0.5108 - val_accuracy: 0.7900\n",
      "Epoch 86/100\n",
      "80/80 [==============================] - 34s 422ms/step - loss: 0.1910 - accuracy: 0.9207 - val_loss: 0.3858 - val_accuracy: 0.7900\n",
      "Epoch 87/100\n",
      "80/80 [==============================] - 35s 430ms/step - loss: 0.1867 - accuracy: 0.9255 - val_loss: 0.4633 - val_accuracy: 0.8300\n",
      "Epoch 88/100\n",
      "80/80 [==============================] - 35s 435ms/step - loss: 0.1767 - accuracy: 0.9314 - val_loss: 0.4066 - val_accuracy: 0.8600\n",
      "Epoch 89/100\n",
      "80/80 [==============================] - 35s 433ms/step - loss: 0.1866 - accuracy: 0.9235 - val_loss: 0.3852 - val_accuracy: 0.8300\n",
      "Epoch 90/100\n",
      "80/80 [==============================] - 34s 425ms/step - loss: 0.1600 - accuracy: 0.9361 - val_loss: 0.4650 - val_accuracy: 0.8600\n",
      "Epoch 91/100\n",
      "80/80 [==============================] - 35s 433ms/step - loss: 0.1923 - accuracy: 0.9176 - val_loss: 0.4903 - val_accuracy: 0.8200\n",
      "Epoch 92/100\n",
      "80/80 [==============================] - 34s 427ms/step - loss: 0.1643 - accuracy: 0.9341 - val_loss: 0.6345 - val_accuracy: 0.8000\n",
      "Epoch 93/100\n",
      "80/80 [==============================] - 35s 429ms/step - loss: 0.1679 - accuracy: 0.9341 - val_loss: 0.5403 - val_accuracy: 0.7900\n",
      "Epoch 94/100\n",
      "80/80 [==============================] - 35s 428ms/step - loss: 0.1758 - accuracy: 0.9274 - val_loss: 0.5707 - val_accuracy: 0.8400\n",
      "Epoch 95/100\n",
      "80/80 [==============================] - 35s 428ms/step - loss: 0.1501 - accuracy: 0.9401 - val_loss: 0.7192 - val_accuracy: 0.8300\n",
      "Epoch 96/100\n",
      "80/80 [==============================] - 35s 433ms/step - loss: 0.1668 - accuracy: 0.9345 - val_loss: 0.4810 - val_accuracy: 0.7900\n",
      "Epoch 97/100\n",
      "80/80 [==============================] - 34s 425ms/step - loss: 0.1523 - accuracy: 0.9397 - val_loss: 0.4501 - val_accuracy: 0.8500\n",
      "Epoch 98/100\n",
      "80/80 [==============================] - 35s 429ms/step - loss: 0.1711 - accuracy: 0.9302 - val_loss: 0.5812 - val_accuracy: 0.8200\n",
      "Epoch 99/100\n",
      "80/80 [==============================] - 34s 427ms/step - loss: 0.1468 - accuracy: 0.9405 - val_loss: 0.4449 - val_accuracy: 0.8400\n",
      "Epoch 100/100\n",
      "80/80 [==============================] - 36s 441ms/step - loss: 0.1615 - accuracy: 0.9338 - val_loss: 0.5075 - val_accuracy: 0.8000\n"
     ]
    }
   ],
   "source": [
    "vgg19_model.compile(optimizer=Adam(learning_rate=0.001), loss='sparse_categorical_crossentropy', metrics=['accuracy'])\n",
    "vgg19hist=vgg19_model.fit(\n",
    "    train_data,\n",
    "    epochs=100,\n",
    "    validation_data=validation_data \n",
    "    \n",
    ")\n",
    "vgg19_model.save(\"vgg19_model50.h5\")"
   ]
  },
  {
   "cell_type": "code",
   "execution_count": 16,
   "id": "ba794dd5",
   "metadata": {},
   "outputs": [
    {
     "data": {
      "image/png": "[encoded data removed]",
      "text/plain": [
       "<Figure size 640x480 with 1 Axes>"
      ]
     },
     "metadata": {},
     "output_type": "display_data"
    }
   ],
   "source": [
    "import matplotlib.pyplot as plt\n",
    "import numpy as np\n",
    "%matplotlib inline\n",
    "\n",
    "# create data\n",
    "x=[]\n",
    "for i in range(1,101):\n",
    "    x.append(i)\n",
    "\n",
    "# plot lines\n",
    "plt.xlabel(\"Epochs\")\n",
    "plt.ylabel(\"Accuracy (%)\")\n",
    "plt.plot(x, vgg19hist.history['accuracy'], label = \"VGG-19 Model Training\", linestyle=\"-\")\n",
    "plt.plot(x, vgg19hist.history['val_accuracy'], label = \"VGG-19 Model Validation\", linestyle=\"-\")\n",
    "plt.legend()\n",
    "plt.show()"
   ]
  },
  {
   "cell_type": "code",
   "execution_count": 17,
   "id": "bc09dc17",
   "metadata": {},
   "outputs": [
    {
     "name": "stdout",
     "output_type": "stream",
     "text": [
      "10/10 [==============================] - 6s 564ms/step - loss: 0.4111 - accuracy: 0.8467\n"
     ]
    },
    {
     "data": {
      "text/plain": [
       "[0.4110613465309143, 0.846666693687439]"
      ]
     },
     "execution_count": 17,
     "metadata": {},
     "output_type": "execute_result"
    }
   ],
   "source": [
    "vgg19_model.evaluate(test_data)"
   ]
  },
  {
   "cell_type": "code",
   "execution_count": 18,
   "id": "b794805f",
   "metadata": {},
   "outputs": [
    {
     "name": "stdout",
     "output_type": "stream",
     "text": [
      "80/80 [==============================] - 33s 407ms/step - loss: 0.1466 - accuracy: 0.9432\n"
     ]
    },
    {
     "data": {
      "text/plain": [
       "[0.14660073816776276, 0.9432176947593689]"
      ]
     },
     "execution_count": 18,
     "metadata": {},
     "output_type": "execute_result"
    }
   ],
   "source": [
    "vgg19_model.evaluate(train_data)"
   ]
  },
  {
   "cell_type": "code",
   "execution_count": 19,
   "id": "6b128bd9",
   "metadata": {},
   "outputs": [
    {
     "name": "stdout",
     "output_type": "stream",
     "text": [
      "4/4 [==============================] - 1s 272ms/step - loss: 0.5444 - accuracy: 0.7700\n"
     ]
    },
    {
     "data": {
      "text/plain": [
       "[0.5444093346595764, 0.7699999809265137]"
      ]
     },
     "execution_count": 19,
     "metadata": {},
     "output_type": "execute_result"
    }
   ],
   "source": [
    "vgg19_model.evaluate(validation_data)"
   ]
  },
  {
   "cell_type": "code",
   "execution_count": 22,
   "id": "3b9861c8",
   "metadata": {},
   "outputs": [
    {
     "name": "stdout",
     "output_type": "stream",
     "text": [
      "10/10 [==============================] - 4s 379ms/step\n",
      "              precision    recall  f1-score   support\n",
      "\n",
      "           0       0.53      0.54      0.54       150\n",
      "           1       0.53      0.53      0.53       150\n",
      "\n",
      "    accuracy                           0.53       300\n",
      "   macro avg       0.53      0.53      0.53       300\n",
      "weighted avg       0.53      0.53      0.53       300\n",
      "\n"
     ]
    }
   ],
   "source": [
    "from sklearn.metrics import classification_report, confusion_matrix\n",
    "\n",
    "Y_pred = vgg19_model.predict(test_data)\n",
    "y_pred = np.argmax(Y_pred, axis=1)\n",
    "\n",
    "print(classification_report(test_data.classes, y_pred))"
   ]
  },
  {
   "cell_type": "code",
   "execution_count": 23,
   "id": "d3643bb0",
   "metadata": {},
   "outputs": [
    {
     "data": {
      "text/plain": [
       "<Axes: >"
      ]
     },
     "execution_count": 23,
     "metadata": {},
     "output_type": "execute_result"
    },
    {
     "data": {
      "image/png": "[encoded data removed]",
      "text/plain": [
       "<Figure size 640x480 with 2 Axes>"
      ]
     },
     "metadata": {},
     "output_type": "display_data"
    }
   ],
   "source": [
    "import seaborn as sns\n",
    "cm = confusion_matrix(test_data.classes, y_pred)\n",
    "cm = cm.astype('float') / cm.sum(axis=1)[:, np.newaxis]\n",
    "sns.heatmap(cm, annot = True)"
   ]
  },
  {
   "cell_type": "code",
   "execution_count": null,
   "id": "68a4d6be",
   "metadata": {},
   "outputs": [],
   "source": []
  }
 ],
 "metadata": {
  "kernelspec": {
   "display_name": "Python 3 (ipykernel)",
   "language": "python",
   "name": "python3"
  },
  "language_info": {
   "codemirror_mode": {
    "name": "ipython",
    "version": 3
   },
   "file_extension": ".py",
   "mimetype": "text/x-python",
   "name": "python",
   "nbconvert_exporter": "python",
   "pygments_lexer": "ipython3",
   "version": "3.10.13"
  }
 },
 "nbformat": 4,
 "nbformat_minor": 5
}
